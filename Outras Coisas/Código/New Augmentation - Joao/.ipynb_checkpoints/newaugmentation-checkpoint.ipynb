{
 "cells": [
  {
   "cell_type": "code",
   "execution_count": 25,
   "id": "c42abd7b",
   "metadata": {},
   "outputs": [],
   "source": [
    "from PIL import Image, ImageDraw\n",
    "\n",
    "def shift_image_left(image_path, shift_value):\n",
    "    # Open the image\n",
    "    image = Image.open(image_path)\n",
    "    \n",
    "    # Create a new image with the updated width\n",
    "    new_image = Image.new(image.mode, (image.width, image.height))\n",
    "\n",
    "    # Copy the original image onto the new image, shifted to the left\n",
    "    new_image.paste(image, (-shift_value, 0))\n",
    "\n",
    "    # Get the last column of the original image\n",
    "    last_column = image.crop((image.width - 1, 0, image.width, image.height))\n",
    "\n",
    "    # Paste the last column into the new columns\n",
    "    for x in range(image.width - shift_value, image.width):\n",
    "        new_image.paste(last_column, (x, 0, x + 1, image.height))\n",
    "\n",
    "    # Return the shifted and filled image\n",
    "    return new_image\n",
    "\n",
    "def shift_image_right(image_path, shift_value):\n",
    "    # Open the image\n",
    "    image = Image.open(image_path)\n",
    "        \n",
    "    # Create a new image with the updated width\n",
    "    new_image = Image.new(image.mode, (image.width, image.height))\n",
    "\n",
    "    # Copy the original image onto the new image, shifted to the right\n",
    "    new_image.paste(image, (shift_value, 0))\n",
    "\n",
    "    # Get the first column of the original image\n",
    "    first_column = image.crop((0, 0, 1, image.height))\n",
    "\n",
    "    # Paste the first column into the new columns\n",
    "    for x in range(shift_value):\n",
    "        new_image.paste(first_column, (x, 0, x + 1, image.height))\n",
    "\n",
    "    # Return the shifted and filled image\n",
    "    return new_image\n",
    "\n",
    "def rotate_image(image_path, angle):\n",
    "    # Open the image\n",
    "    image = Image.open(image_path)\n",
    "\n",
    "    # Rotate the image\n",
    "    rotated_image = image.rotate(angle, expand=True)\n",
    "\n",
    "    # Create a new image with RGBA mode and transparent background\n",
    "    new_image = Image.new(\"RGBA\", rotated_image.size, (0, 0, 0, 0))\n",
    "\n",
    "    # Paste the rotated image onto the new image\n",
    "    new_image.paste(rotated_image, (0, 0), rotated_image)\n",
    "\n",
    "    # Return the rotated and filled image\n",
    "    return new_image\n"
   ]
  },
  {
   "cell_type": "code",
   "execution_count": 26,
   "id": "48839f8a",
   "metadata": {},
   "outputs": [
    {
     "name": "stdout",
     "output_type": "stream",
     "text": [
      "RGBA\n"
     ]
    }
   ],
   "source": [
    "shifted_image = shift_image_right('a.png',15)\n",
    "shifted_image.save('shifted_a.png')"
   ]
  }
 ],
 "metadata": {
  "kernelspec": {
   "display_name": "Python 3 (ipykernel)",
   "language": "python",
   "name": "python3"
  },
  "language_info": {
   "codemirror_mode": {
    "name": "ipython",
    "version": 3
   },
   "file_extension": ".py",
   "mimetype": "text/x-python",
   "name": "python",
   "nbconvert_exporter": "python",
   "pygments_lexer": "ipython3",
   "version": "3.9.13"
  },
  "vscode": {
   "interpreter": {
    "hash": "ac139e95b93d37830bc6db1af5c1645ffabe82275972d7e78844595fc6ac7747"
   }
  }
 },
 "nbformat": 4,
 "nbformat_minor": 5
}
