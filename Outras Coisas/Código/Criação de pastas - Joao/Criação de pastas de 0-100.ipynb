{
 "cells": [
  {
   "cell_type": "code",
   "execution_count": null,
   "id": "5d192cd6",
   "metadata": {},
   "outputs": [],
   "source": [
    "#--------Criação das pastas de 0 a 100\n",
    "\n",
    "for i in range(101):\n",
    "    os.mkdir(str(i)) #---Cria as pastas do 0 ao 100\n",
    "print(\"Pastas criadas!\")"
   ]
  }
 ],
 "metadata": {
  "kernelspec": {
   "display_name": "Python 3 (ipykernel)",
   "language": "python",
   "name": "python3"
  },
  "language_info": {
   "codemirror_mode": {
    "name": "ipython",
    "version": 3
   },
   "file_extension": ".py",
   "mimetype": "text/x-python",
   "name": "python",
   "nbconvert_exporter": "python",
   "pygments_lexer": "ipython3",
   "version": "3.9.13"
  }
 },
 "nbformat": 4,
 "nbformat_minor": 5
}
