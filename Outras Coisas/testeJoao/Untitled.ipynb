{
 "cells": [
  {
   "cell_type": "code",
   "execution_count": 1,
   "id": "8a137c65",
   "metadata": {},
   "outputs": [],
   "source": [
    "from PIL import Image\n",
    "\n",
    "# Open the image file\n",
    "image = Image.open(\"2023-04-07T2100.png\")\n",
    "\n",
    "# Convert the image to RGBA mode (if it's not already in RGBA mode)\n",
    "image = image.convert(\"RGBA\")\n",
    "\n",
    "# Get the pixel data as a list of tuples\n",
    "pixels = list(image.getdata())\n",
    "\n",
    "# Replace every black pixel with transparent\n",
    "new_pixels = []\n",
    "for pixel in pixels:\n",
    "    if pixel[0] == 0 and pixel[1] == 0 and pixel[2] == 0:\n",
    "        new_pixels.append((0, 0, 0, 0))\n",
    "    else:\n",
    "        new_pixels.append(pixel)\n",
    "\n",
    "# Update the image with the new pixel data\n",
    "image.putdata(new_pixels)\n",
    "\n",
    "# Save the modified image\n",
    "image.save(\"modified_image.png\")"
   ]
  }
 ],
 "metadata": {
  "kernelspec": {
   "display_name": "Python 3 (ipykernel)",
   "language": "python",
   "name": "python3"
  },
  "language_info": {
   "codemirror_mode": {
    "name": "ipython",
    "version": 3
   },
   "file_extension": ".py",
   "mimetype": "text/x-python",
   "name": "python",
   "nbconvert_exporter": "python",
   "pygments_lexer": "ipython3",
   "version": "3.9.13"
  }
 },
 "nbformat": 4,
 "nbformat_minor": 5
}
