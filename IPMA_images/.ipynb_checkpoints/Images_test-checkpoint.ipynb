{
 "cells": [
  {
   "cell_type": "code",
   "execution_count": null,
   "id": "d4ba89e6",
   "metadata": {},
   "outputs": [],
   "source": [
    "# https://www.ipma.pt/resources.www/transf/radar/por/pcr-{yyyy}-{mm}-{dd}T{hhmm}.png\n",
    "\n",
    "import datetime\n",
    "import time\n",
    "\n",
    "# Define the base URL for the radar images\n",
    "base_url = \"https://www.ipma.pt/resources.www/transf/radar/por/pcr-{datetime}.png\"\n",
    "output_format = \"%Y-%m-%dT%H%M\"\n",
    "\n",
    "# Define the current datetime and the datetime 2 hours ago\n",
    "current_datetime = datetime.datetime.utcnow()\n",
    "previous_datetime = current_datetime - datetime.timedelta(hours=2)\n",
    "\n",
    "# Define the time interval for generating URLs\n",
    "interval = datetime.timedelta(minutes=10)\n",
    "\n",
    "# Generate URLs in a loop, starting with the current datetime and going back to the previous datetime\n",
    "while current_datetime >= previous_datetime:\n",
    "    # Format the datetime as a string in the appropriate format for the URL\n",
    "    datetime_str = current_datetime.strftime(\"%Y-%m-%dT%H%M\")\n",
    "    \n",
    "    # Generate the URL for the current datetime\n",
    "    url = base_url.format(datetime=datetime_str)\n",
    "    \n",
    "    # Print the URL\n",
    "    print(url)\n",
    "    \n",
    "    \n",
    "    # Decrement the datetime by 10 minutes\n",
    "    current_datetime -= interval\n"
   ]
  },
  {
   "cell_type": "code",
   "execution_count": 2,
   "id": "e49073f6",
   "metadata": {},
   "outputs": [
    {
     "name": "stdout",
     "output_type": "stream",
     "text": [
      "Enter a date and time (in the format 'YYYY-MM-DD HH:MM:SS.MS'): 2023-03-27 23:20:02.948960\n",
      "2023-03-27T2320\n"
     ]
    }
   ],
   "source": [
    "import datetime\n",
    "\n",
    "# Define the input format and output format\n",
    "input_format = \"%Y-%m-%d %H:%M:%S.%f\"\n",
    "output_format = \"%Y-%m-%dT%H%M\"\n",
    "\n",
    "# Get the input string from the user\n",
    "input_string = input(\"Enter a date and time (in the format 'YYYY-MM-DD HH:MM:SS.MS'): \")\n",
    "\n",
    "# Convert the input string to a datetime object\n",
    "dt = datetime.datetime.strptime(input_string, input_format)\n",
    "\n",
    "# Format the datetime object as a string in the desired output format\n",
    "output_string = dt.strftime(output_format)\n",
    "\n",
    "# Print the output string\n",
    "print(output_string)"
   ]
  }
 ],
 "metadata": {
  "kernelspec": {
   "display_name": "Python 3 (ipykernel)",
   "language": "python",
   "name": "python3"
  },
  "language_info": {
   "codemirror_mode": {
    "name": "ipython",
    "version": 3
   },
   "file_extension": ".py",
   "mimetype": "text/x-python",
   "name": "python",
   "nbconvert_exporter": "python",
   "pygments_lexer": "ipython3",
   "version": "3.11.0"
  }
 },
 "nbformat": 4,
 "nbformat_minor": 5
}
