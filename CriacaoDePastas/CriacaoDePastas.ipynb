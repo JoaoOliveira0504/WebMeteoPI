{
 "cells": [
  {
   "cell_type": "code",
   "execution_count": 2,
   "id": "b815187e",
   "metadata": {},
   "outputs": [
    {
     "name": "stdout",
     "output_type": "stream",
     "text": [
      "Pastas criadas!\n"
     ]
    }
   ],
   "source": [
    "import os\n",
    "\n",
    "for i in range(101):\n",
    "    os.mkdir(str(i))\n",
    "print(\"Pastas criadas!\")"
   ]
  },
  {
   "cell_type": "code",
   "execution_count": null,
   "id": "a5ceb2ff",
   "metadata": {},
   "outputs": [],
   "source": []
  }
 ],
 "metadata": {
  "kernelspec": {
   "display_name": "Python 3 (ipykernel)",
   "language": "python",
   "name": "python3"
  },
  "language_info": {
   "codemirror_mode": {
    "name": "ipython",
    "version": 3
   },
   "file_extension": ".py",
   "mimetype": "text/x-python",
   "name": "python",
   "nbconvert_exporter": "python",
   "pygments_lexer": "ipython3",
   "version": "3.9.13"
  }
 },
 "nbformat": 4,
 "nbformat_minor": 5
}
