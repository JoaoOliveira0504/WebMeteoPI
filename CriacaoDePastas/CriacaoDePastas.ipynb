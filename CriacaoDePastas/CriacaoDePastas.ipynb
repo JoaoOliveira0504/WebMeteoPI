{
 "cells": [
  {
   "cell_type": "code",
   "execution_count": 2,
   "id": "73b1dcca",
   "metadata": {},
   "outputs": [
    {
     "name": "stdout",
     "output_type": "stream",
     "text": [
      "Pastas criadas!\n"
     ]
    }
   ],
   "source": [
    "#---Cria as pastas do 0 ao 100\n",
    "\n",
    "import os\n",
    "\n",
    "for i in range(101):\n",
    "    os.mkdir(str(i))\n",
    "print(\"Pastas criadas!\")"
   ]
  },
  {
   "cell_type": "code",
   "execution_count": 27,
   "id": "910d99d3",
   "metadata": {},
   "outputs": [],
   "source": [
    "#---Define a função que vai transformar o valor da precipatação para um valor de 0 a 100\n",
    "#---https://www.ipma.pt/pt/oclima/extremos.clima/ Vou usar o valor máximo aqui como referencia\n",
    "\n",
    "def normalize_precipitation_value(precipitation_value):\n",
    "  return int(round((precipitation_value/240)*100,0)) #o valor normalizado ta a ser arredondado pq as pastas sao de valores inteiros\n",
    "\n",
    "DADOS_ULTIMAS_3_HORAS = https://api.ipma.pt/open-data/observation/meteorology/stations/obs-surface.geojson #por exemplo se forem 9PM tem os dados entre 5PM e 7PM de hora a hora para todas as estações\n",
    "DADOS_ULTIMAS_24_HORAS = https://api.ipma.pt/open-data/observation/meteorology/stations/observations.json #tem os dados das ultimas 24 horas para algumas estações\n",
    "\n",
    "def get_data(self, api):\n",
    "        response = requests.get(f\"{api}\")\n",
    "        if response.status_code == 200:\n",
    "            print(\"sucessfully fetched the data\")\n",
    "            self.formatted_print(response.json())\n",
    "        else:\n",
    "            print(f\"Hello person, there's a {response.status_code} error with your request\")"
   ]
  },
  {
   "cell_type": "code",
   "execution_count": null,
   "id": "ef93b9f6",
   "metadata": {},
   "outputs": [],
   "source": []
  }
 ],
 "metadata": {
  "kernelspec": {
   "display_name": "Python 3 (ipykernel)",
   "language": "python",
   "name": "python3"
  },
  "language_info": {
   "codemirror_mode": {
    "name": "ipython",
    "version": 3
   },
   "file_extension": ".py",
   "mimetype": "text/x-python",
   "name": "python",
   "nbconvert_exporter": "python",
   "pygments_lexer": "ipython3",
   "version": "3.9.13"
  }
 },
 "nbformat": 4,
 "nbformat_minor": 5
}
